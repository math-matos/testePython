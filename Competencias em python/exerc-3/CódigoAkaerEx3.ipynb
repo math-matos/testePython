{
 "cells": [
  {
   "cell_type": "code",
   "execution_count": 1,
   "id": "70b71cc7",
   "metadata": {},
   "outputs": [],
   "source": [
    "import pandas as pd\n",
    "\n",
    "def process_license_data(input_file, output_file):\n",
    "    # Carrega o arquivo Excel\n",
    "    df = pd.read_excel(input_file)\n",
    "\n",
    "    # Converte as colunas de data para datetime\n",
    "    df['Start Time'] = pd.to_datetime(df['Start Time'])\n",
    "    df['End Time'] = pd.to_datetime(df['End Time'])\n",
    "\n",
    "    # Calcula as horas de cada registro\n",
    "    df['Usage Time'] = (df['End Time'] - df['Start Time']).dt.total_seconds() / 3600\n",
    "\n",
    "    # Cria uma coluna que armazenar o tempo de uso\n",
    "    df['Day'] = df['Start Time'].dt.date\n",
    "\n",
    "    # Agrupa pelas categorias abaixo:\n",
    "    df_resumo = df.groupby(['id', 'User Name', 'License Type', 'Day'])['Usage Time'].sum().reset_index()\n",
    "\n",
    "    # Salva o resultado novo Excel\n",
    "    with pd.ExcelWriter(output_file, engine='openpyxl') as writer:\n",
    "        df_resumo.to_excel(writer, index=False)\n",
    "\n",
    "if __name__ == \"__main__\":\n",
    "    input_file = \"DadosLicencas1.xlsx\"\n",
    "    output_file = \"ResultadoTabela2.xlsx\"\n",
    "\n",
    "    process_license_data(input_file, output_file)\n"
   ]
  },
  {
   "cell_type": "code",
   "execution_count": null,
   "id": "d089fd2b",
   "metadata": {},
   "outputs": [],
   "source": []
  }
 ],
 "metadata": {
  "kernelspec": {
   "display_name": "Python 3 (ipykernel)",
   "language": "python",
   "name": "python3"
  },
  "language_info": {
   "codemirror_mode": {
    "name": "ipython",
    "version": 3
   },
   "file_extension": ".py",
   "mimetype": "text/x-python",
   "name": "python",
   "nbconvert_exporter": "python",
   "pygments_lexer": "ipython3",
   "version": "3.11.3"
  }
 },
 "nbformat": 4,
 "nbformat_minor": 5
}
