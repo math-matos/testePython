{
 "cells": [
  {
   "cell_type": "code",
   "execution_count": 13,
   "id": "4c2b8087",
   "metadata": {},
   "outputs": [
    {
     "name": "stdout",
     "output_type": "stream",
     "text": [
      "[{'id_usuario': 5, 'licenca': 15, 'horario_inicio': '2023-07-20 10:11', 'horario_termino': '2023-07-20 11:00', 'username': 'Pedro'}, {'id_usuario': 6, 'licenca': 16, 'horario_inicio': '2023-07-20 17:25', 'horario_termino': '2023-07-20 17:50', 'username': 'Maria'}, {'id_usuario': 7, 'licenca': 17, 'horario_inicio': '2023-04-03 10:00', 'horario_termino': '2023-07-20 11:00', 'username': 'Marcos'}]\n"
     ]
    }
   ],
   "source": [
    "from datetime import datetime\n",
    "import pandas as pd\n",
    "\n",
    "# Tabela original\n",
    "tabela_original = [\n",
    "    {\"id_usuario\": 5, \"licenca\": 15, \"horario_inicio\": \"2023-07-20 10:11\", \"horario_termino\": \"2023-07-20 11:00\"},\n",
    "    {\"id_usuario\": 6, \"licenca\": 16, \"horario_inicio\": \"2023-07-20 17:25\", \"horario_termino\": \"2023-07-20 17:50\"},\n",
    "    {\"id_usuario\": 7, \"licenca\": 17, \"horario_inicio\": \"2023-04-03 10:00\", \"horario_termino\": \"2023-07-20 11:00\"},\n",
    "    # continua...\n",
    "]\n",
    "\n",
    "# Tabela comum\n",
    "base_dados_principal = [\n",
    "    {\"username\": \"Pedro\", \"horario_inicio\": \"2023-07-20 10:11\", \"horario_termino\": \"2023-07-20 11:00\"},\n",
    "    {\"username\": \"Maria\", \"horario_inicio\": \"2023-07-20 17:25\", \"horario_termino\": \"2023-07-20 17:50\"},\n",
    "    {\"username\": \"Marcos\", \"horario_inicio\": \"2023-04-03 10:00\", \"horario_termino\": \"2023-07-20 11:00\"},\n",
    "    # continua...\n",
    "]\n",
    "\n",
    "# busca o username do primeiro banco\n",
    "def buscar_username_na_base_de_dados_principal(horario_inicio, horario_termino):\n",
    "    for registro in base_dados_principal:\n",
    "        # Converte as strings horário para datetime\n",
    "        inicio = datetime.strptime(registro[\"horario_inicio\"], \"%Y-%m-%d %H:%M\")\n",
    "        termino = datetime.strptime(registro[\"horario_termino\"], \"%Y-%m-%d %H:%M\")\n",
    "        licenca_inicio = datetime.strptime(horario_inicio, \"%Y-%m-%d %H:%M\")\n",
    "        licenca_termino = datetime.strptime(horario_termino, \"%Y-%m-%d %H:%M\")\n",
    "\n",
    "        # Verificar se o horário de uso da licença está contido no intervalo de horários do usuário\n",
    "        if inicio <= licenca_inicio <= termino and inicio <= licenca_termino <= termino:\n",
    "            return registro[\"username\"]\n",
    "\n",
    "    return None\n",
    "\n",
    "# tabela nova - \"Resultado.xlsx\"\n",
    "tabela_saida = []\n",
    "\n",
    "# Percorre cada linha da tabela original\n",
    "for linha in tabela_original:\n",
    "    # início e término da licença\n",
    "    horario_inicio = linha[\"horario_inicio\"]\n",
    "    horario_termino = linha[\"horario_termino\"]\n",
    "\n",
    "    # Procura no primeiro banco o username correspondente\n",
    "    username_correspondente = buscar_username_na_base_de_dados_principal(horario_inicio, horario_termino)\n",
    "\n",
    "    # username correspondente na saída\n",
    "    nova_linha = dict(linha) \n",
    "    nova_linha[\"username\"] = username_correspondente\n",
    "    tabela_saida.append(nova_linha)\n",
    "\n",
    "# confirmação de ação\n",
    "print(tabela_saida)\n",
    "\n",
    "df_saida = pd.DataFrame(tabela_saida)\n",
    "\n",
    "# nome saida final\n",
    "df_saida.to_excel(\"Resultado.xlsx\", index=False)"
   ]
  },
  {
   "cell_type": "code",
   "execution_count": null,
   "id": "4ec10ba1",
   "metadata": {},
   "outputs": [],
   "source": []
  }
 ],
 "metadata": {
  "kernelspec": {
   "display_name": "Python 3 (ipykernel)",
   "language": "python",
   "name": "python3"
  },
  "language_info": {
   "codemirror_mode": {
    "name": "ipython",
    "version": 3
   },
   "file_extension": ".py",
   "mimetype": "text/x-python",
   "name": "python",
   "nbconvert_exporter": "python",
   "pygments_lexer": "ipython3",
   "version": "3.11.3"
  }
 },
 "nbformat": 4,
 "nbformat_minor": 5
}
